{
 "cells": [
  {
   "cell_type": "code",
   "execution_count": 4,
   "id": "a07b1414",
   "metadata": {},
   "outputs": [],
   "source": [
    "#q1)"
   ]
  },
  {
   "cell_type": "code",
   "execution_count": 5,
   "id": "3789a4da",
   "metadata": {},
   "outputs": [
    {
     "name": "stdout",
     "output_type": "stream",
     "text": [
      "5.6\n",
      "3.4796786639999997 miles\n"
     ]
    }
   ],
   "source": [
    "a=float(input())\n",
    "a=a*0.62137119\n",
    "print(a, 'miles')"
   ]
  },
  {
   "cell_type": "code",
   "execution_count": null,
   "id": "1b4829d9",
   "metadata": {},
   "outputs": [],
   "source": []
  },
  {
   "cell_type": "code",
   "execution_count": null,
   "id": "5631bf00",
   "metadata": {},
   "outputs": [],
   "source": [
    "#q2)"
   ]
  },
  {
   "cell_type": "code",
   "execution_count": 7,
   "id": "ec616496",
   "metadata": {},
   "outputs": [
    {
     "name": "stdout",
     "output_type": "stream",
     "text": [
      "50\n",
      "122.0 Fahrenheit\n"
     ]
    }
   ],
   "source": [
    "c=float(input())\n",
    "c=c*(9/5)+32\n",
    "print(c, 'Fahrenheit')"
   ]
  },
  {
   "cell_type": "code",
   "execution_count": null,
   "id": "8ea6a517",
   "metadata": {},
   "outputs": [],
   "source": [
    "\n"
   ]
  },
  {
   "cell_type": "code",
   "execution_count": null,
   "id": "953e944f",
   "metadata": {},
   "outputs": [],
   "source": [
    "#q4)"
   ]
  },
  {
   "cell_type": "code",
   "execution_count": 2,
   "id": "38d97e80",
   "metadata": {},
   "outputs": [
    {
     "name": "stdout",
     "output_type": "stream",
     "text": [
      "1\n",
      "-5\n",
      "6\n",
      "3.0 , 2.0 are the roots of quadratic equation\n"
     ]
    }
   ],
   "source": [
    "a=float(input())\n",
    "b=float(input())\n",
    "c=float(input())\n",
    "d=((-b+(b**2-4*a*c)**(1/2))/(2*a))\n",
    "e=((-b-(b**2-4*a*c)**(1/2))/(2*a))\n",
    "print(d,',',e,'are the roots of quadratic equation')\n",
    "   "
   ]
  },
  {
   "cell_type": "code",
   "execution_count": null,
   "id": "886315f3",
   "metadata": {},
   "outputs": [],
   "source": []
  },
  {
   "cell_type": "code",
   "execution_count": 3,
   "id": "305a94da",
   "metadata": {},
   "outputs": [],
   "source": [
    "#q5)"
   ]
  },
  {
   "cell_type": "code",
   "execution_count": 2,
   "id": "11a3ec99",
   "metadata": {},
   "outputs": [
    {
     "name": "stdout",
     "output_type": "stream",
     "text": [
      "1\n",
      "2\n",
      "New value of a is 2.0\n",
      "New value of b is 1.0\n"
     ]
    }
   ],
   "source": [
    "a=float(input())\n",
    "b=float(input())\n",
    "a,b=b,a\n",
    "print('New value of a is', a)\n",
    "print('New value of b is', b)"
   ]
  },
  {
   "cell_type": "code",
   "execution_count": null,
   "id": "5ce31c5c",
   "metadata": {},
   "outputs": [],
   "source": [
    "\n",
    "\n"
   ]
  },
  {
   "cell_type": "code",
   "execution_count": 3,
   "id": "c5399164",
   "metadata": {},
   "outputs": [],
   "source": [
    "#q3)"
   ]
  },
  {
   "cell_type": "code",
   "execution_count": 5,
   "id": "91f406f1",
   "metadata": {},
   "outputs": [
    {
     "name": "stdout",
     "output_type": "stream",
     "text": [
      "2016\n",
      "11\n",
      "   November 2016\n",
      "Mo Tu We Th Fr Sa Su\n",
      "    1  2  3  4  5  6\n",
      " 7  8  9 10 11 12 13\n",
      "14 15 16 17 18 19 20\n",
      "21 22 23 24 25 26 27\n",
      "28 29 30\n",
      "\n"
     ]
    }
   ],
   "source": [
    "import calendar\n",
    "year=int(input())\n",
    "month=int(input())\n",
    "print(calendar.month(year,month))  "
   ]
  },
  {
   "cell_type": "code",
   "execution_count": null,
   "id": "c371a0f4",
   "metadata": {},
   "outputs": [],
   "source": []
  },
  {
   "cell_type": "code",
   "execution_count": null,
   "id": "64c9795d",
   "metadata": {},
   "outputs": [],
   "source": []
  },
  {
   "cell_type": "code",
   "execution_count": null,
   "id": "9a8c259a",
   "metadata": {},
   "outputs": [],
   "source": []
  },
  {
   "cell_type": "code",
   "execution_count": null,
   "id": "b34dc387",
   "metadata": {},
   "outputs": [],
   "source": [
    "\n",
    "\n"
   ]
  },
  {
   "cell_type": "code",
   "execution_count": null,
   "id": "f36b96da",
   "metadata": {},
   "outputs": [],
   "source": []
  }
 ],
 "metadata": {
  "kernelspec": {
   "display_name": "Python 3 (ipykernel)",
   "language": "python",
   "name": "python3"
  },
  "language_info": {
   "codemirror_mode": {
    "name": "ipython",
    "version": 3
   },
   "file_extension": ".py",
   "mimetype": "text/x-python",
   "name": "python",
   "nbconvert_exporter": "python",
   "pygments_lexer": "ipython3",
   "version": "3.9.12"
  }
 },
 "nbformat": 4,
 "nbformat_minor": 5
}
