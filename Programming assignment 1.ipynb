{
 "cells": [
  {
   "cell_type": "code",
   "execution_count": 2,
   "id": "480b2dc1",
   "metadata": {},
   "outputs": [],
   "source": [
    "#q1)"
   ]
  },
  {
   "cell_type": "code",
   "execution_count": 3,
   "id": "66e9c2b9",
   "metadata": {},
   "outputs": [
    {
     "name": "stdout",
     "output_type": "stream",
     "text": [
      "Hello python\n"
     ]
    }
   ],
   "source": [
    "print('Hello python')"
   ]
  },
  {
   "cell_type": "code",
   "execution_count": 4,
   "id": "43b13ccc",
   "metadata": {},
   "outputs": [],
   "source": []
  },
  {
   "cell_type": "code",
   "execution_count": null,
   "id": "55d43fd8",
   "metadata": {},
   "outputs": [],
   "source": [
    "#q2)"
   ]
  },
  {
   "cell_type": "code",
   "execution_count": 1,
   "id": "e61c0b12",
   "metadata": {},
   "outputs": [
    {
     "name": "stdout",
     "output_type": "stream",
     "text": [
      "7.8\n",
      "6\n",
      "Addition of two numbers is 13.8\n",
      "division of two numbers is 1.3\n"
     ]
    }
   ],
   "source": [
    "a=float(input())\n",
    "b=float(input())\n",
    "c=a+b\n",
    "d=a/b\n",
    "print('Addition of two numbers is', c)\n",
    "print('division of two numbers is', d)"
   ]
  },
  {
   "cell_type": "code",
   "execution_count": null,
   "id": "05c15098",
   "metadata": {},
   "outputs": [],
   "source": []
  },
  {
   "cell_type": "code",
   "execution_count": 10,
   "id": "7771cbe8",
   "metadata": {},
   "outputs": [],
   "source": [
    "#q3)"
   ]
  },
  {
   "cell_type": "code",
   "execution_count": 1,
   "id": "1500b838",
   "metadata": {},
   "outputs": [
    {
     "name": "stdout",
     "output_type": "stream",
     "text": [
      "8.2\n",
      "3.6\n",
      "Area of triangle 14.76\n"
     ]
    }
   ],
   "source": [
    "b=float(input())\n",
    "h=float(input())\n",
    "c=(1/2)*b*h\n",
    "print('Area of triangle',c)"
   ]
  },
  {
   "cell_type": "code",
   "execution_count": null,
   "id": "295696e9",
   "metadata": {},
   "outputs": [],
   "source": []
  },
  {
   "cell_type": "code",
   "execution_count": 2,
   "id": "ac719b7e",
   "metadata": {},
   "outputs": [],
   "source": [
    "#q4)"
   ]
  },
  {
   "cell_type": "code",
   "execution_count": 3,
   "id": "bed6b7e0",
   "metadata": {},
   "outputs": [
    {
     "name": "stdout",
     "output_type": "stream",
     "text": [
      "5\n",
      "6\n",
      "value of a 6\n",
      "value of b 5\n"
     ]
    }
   ],
   "source": [
    "a=int(input())\n",
    "b=int(input())\n",
    "temp=a\n",
    "a=b\n",
    "b=temp\n",
    "print('value of a', a)\n",
    "print('value of b', b)\n"
   ]
  },
  {
   "cell_type": "code",
   "execution_count": null,
   "id": "933858d0",
   "metadata": {},
   "outputs": [],
   "source": [
    "\n"
   ]
  },
  {
   "cell_type": "code",
   "execution_count": null,
   "id": "b01bfa7e",
   "metadata": {},
   "outputs": [],
   "source": [
    "#q5)"
   ]
  },
  {
   "cell_type": "code",
   "execution_count": 6,
   "id": "b5c31999",
   "metadata": {},
   "outputs": [
    {
     "data": {
      "text/plain": [
       "[0,\n",
       " 2,\n",
       " 4,\n",
       " 6,\n",
       " 8,\n",
       " 10,\n",
       " 12,\n",
       " 14,\n",
       " 16,\n",
       " 18,\n",
       " 20,\n",
       " 22,\n",
       " 24,\n",
       " 26,\n",
       " 28,\n",
       " 30,\n",
       " 32,\n",
       " 34,\n",
       " 36,\n",
       " 38,\n",
       " 40,\n",
       " 42,\n",
       " 44,\n",
       " 46,\n",
       " 48,\n",
       " 50,\n",
       " 52,\n",
       " 54,\n",
       " 56,\n",
       " 58,\n",
       " 60,\n",
       " 62,\n",
       " 64,\n",
       " 66,\n",
       " 68,\n",
       " 70,\n",
       " 72,\n",
       " 74,\n",
       " 76,\n",
       " 78,\n",
       " 80,\n",
       " 82,\n",
       " 84,\n",
       " 86,\n",
       " 88,\n",
       " 90,\n",
       " 92,\n",
       " 94,\n",
       " 96,\n",
       " 98]"
      ]
     },
     "execution_count": 6,
     "metadata": {},
     "output_type": "execute_result"
    }
   ],
   "source": [
    "list(range(0,100,2))\n"
   ]
  },
  {
   "cell_type": "code",
   "execution_count": null,
   "id": "0db48ec2",
   "metadata": {},
   "outputs": [],
   "source": []
  }
 ],
 "metadata": {
  "kernelspec": {
   "display_name": "Python 3 (ipykernel)",
   "language": "python",
   "name": "python3"
  },
  "language_info": {
   "codemirror_mode": {
    "name": "ipython",
    "version": 3
   },
   "file_extension": ".py",
   "mimetype": "text/x-python",
   "name": "python",
   "nbconvert_exporter": "python",
   "pygments_lexer": "ipython3",
   "version": "3.9.12"
  }
 },
 "nbformat": 4,
 "nbformat_minor": 5
}
